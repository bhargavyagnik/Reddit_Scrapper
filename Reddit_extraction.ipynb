{
 "cells": [
  {
   "cell_type": "code",
   "execution_count": 21,
   "metadata": {},
   "outputs": [],
   "source": [
    "# reddit Extraction"
   ]
  },
  {
   "cell_type": "code",
   "execution_count": 22,
   "metadata": {},
   "outputs": [],
   "source": [
    "import praw\n",
    "import pandas as pd\n",
    "import datetime as dt"
   ]
  },
  {
   "cell_type": "code",
   "execution_count": 36,
   "metadata": {},
   "outputs": [],
   "source": [
    "# reddit = praw.Reddit(client_id='PERSONAL_USE_SCRIPT_14_CHARS', \\\n",
    "#                      client_secret='SECRET_KEY_27_CHARS ', \\\n",
    "#                      user_agent='YOUR_APP_NAME', \\\n",
    "#                      username='YOUR_REDDIT_USER_NAME', \\\n",
    "#                      password='YOUR_REDDIT_LOGIN_PASSWORD')\n",
    "reddit=praw.Reddit(client_id='##########',client_secret='#################',user_agent='Reddit_Scrapper',username='#########',password='###########')"
   ]
  },
  {
   "cell_type": "code",
   "execution_count": 37,
   "metadata": {},
   "outputs": [
    {
     "name": "stdout",
     "output_type": "stream",
     "text": [
      "bhargav99\n"
     ]
    }
   ],
   "source": [
    "print(reddit.user.me()) "
   ]
  },
  {
   "cell_type": "code",
   "execution_count": 38,
   "metadata": {},
   "outputs": [
    {
     "name": "stdout",
     "output_type": "stream",
     "text": [
      "Ask Anything Monday - Weekly Thread\n",
      "Learn to Code With Data Visualizations - Interactive Lessons\n",
      "It is possible with Tkinter and Python make a program that has the same looks and functionality as Mac System 1?\n",
      "How do you prepare before beginning a large project?\n",
      "Feeling unmotivated because I don't even know how to start.\n",
      "What's considered the \"best\" way to organise code in a script?\n",
      "Quick noob question gonna delete after\n",
      "Why do I need a main() function?\n",
      "Why do I need to know to write XPATH\n",
      "My first python app\n"
     ]
    }
   ],
   "source": [
    "for submission in reddit.subreddit('learnpython').hot(limit=10):\n",
    "    print(submission.title)\n"
   ]
  },
  {
   "cell_type": "code",
   "execution_count": 39,
   "metadata": {},
   "outputs": [
    {
     "name": "stdout",
     "output_type": "stream",
     "text": [
      "                                               title  score      id  \\\n",
      "0  [D] Machine Learning - WAYR (What Are You Read...     59  e4nmyk   \n",
      "1  [D] What was your favorite paper of 2019 and why?    225  e8the3   \n",
      "2  [D] 1,500 scientists lift the lid on reproduci...    133  eklkoc   \n",
      "3     [P] This K-pop idol does not exist (StyleGAN2)     11  eklb4s   \n",
      "4  [P] 64,000 pictures of cars, labeled by make, ...    635  ek5zwv   \n",
      "5  [D] How do you use unsupervised Learning metho...     12  ekhtxg   \n",
      "6  Why Are We Using Black Box Models in AI When W...     26  ek7suy   \n",
      "7  [N] U.S. government limits exports of artifici...     25  ek6pke   \n",
      "8  [D] It's better to get a part-time job or push...     31  ek3ndx   \n",
      "9    [N] New subreddit: r/LatestInML (daily updates)      0  ekjv0a   \n",
      "\n",
      "         subreddit                                                url  \\\n",
      "0  MachineLearning  https://www.reddit.com/r/MachineLearning/comme...   \n",
      "1  MachineLearning  https://www.reddit.com/r/MachineLearning/comme...   \n",
      "2  MachineLearning  https://www.reddit.com/r/MachineLearning/comme...   \n",
      "3  MachineLearning  https://www.reddit.com/r/MachineLearning/comme...   \n",
      "4  MachineLearning  https://www.reddit.com/r/MachineLearning/comme...   \n",
      "5  MachineLearning  https://www.reddit.com/r/MachineLearning/comme...   \n",
      "6  MachineLearning         https://hdsr.mitpress.mit.edu/pub/f9kuryi8   \n",
      "7  MachineLearning  https://www.reddit.com/r/MachineLearning/comme...   \n",
      "8  MachineLearning  https://www.reddit.com/r/MachineLearning/comme...   \n",
      "9  MachineLearning  https://www.reddit.com/r/MachineLearning/comme...   \n",
      "\n",
      "   num_comments                                               body  \\\n",
      "0            25  This is a place to share machine learning rese...   \n",
      "1            96  As the year, and [decade](https://www.reddit.c...   \n",
      "2            34  This article doesn't seem to mention ML resear...   \n",
      "3             9  Hey everyone, I played around with the newly r...   \n",
      "4            44  Download it [here](https://drive.google.com/op...   \n",
      "5             6  I have a question about a problem that I am  t...   \n",
      "6             7                                                      \n",
      "7            14  This is a mainstream news story, and mainly ab...   \n",
      "8            27  Hello,\\n\\nI'm pursuing a PhD in machine learni...   \n",
      "9             0  Hi folks,\\n\\nJust created a subreddit for folk...   \n",
      "\n",
      "        created  \n",
      "0  1.575263e+09  \n",
      "1  1.576027e+09  \n",
      "2  1.578298e+09  \n",
      "3  1.578297e+09  \n",
      "4  1.578217e+09  \n",
      "5  1.578282e+09  \n",
      "6  1.578226e+09  \n",
      "7  1.578220e+09  \n",
      "8  1.578206e+09  \n",
      "9  1.578291e+09  \n"
     ]
    }
   ],
   "source": [
    "import pandas as pd\n",
    "posts = []\n",
    "ml_subreddit = reddit.subreddit('MachineLearning')\n",
    "for post in ml_subreddit.hot(limit=10):\n",
    "    posts.append([post.title, post.score, post.id, post.subreddit, post.url, post.num_comments, post.selftext, post.created])\n",
    "posts = pd.DataFrame(posts,columns=['title', 'score', 'id', 'subreddit', 'url', 'num_comments', 'body', 'created'])\n",
    "print(posts)"
   ]
  },
  {
   "cell_type": "code",
   "execution_count": null,
   "metadata": {},
   "outputs": [],
   "source": []
  }
 ],
 "metadata": {
  "kernelspec": {
   "display_name": "Python 3",
   "language": "python",
   "name": "python3"
  },
  "language_info": {
   "codemirror_mode": {
    "name": "ipython",
    "version": 3
   },
   "file_extension": ".py",
   "mimetype": "text/x-python",
   "name": "python",
   "nbconvert_exporter": "python",
   "pygments_lexer": "ipython3",
   "version": "3.6.8"
  }
 },
 "nbformat": 4,
 "nbformat_minor": 2
}
